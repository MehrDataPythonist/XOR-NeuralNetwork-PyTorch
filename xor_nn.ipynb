{
  "nbformat": 4,
  "nbformat_minor": 0,
  "metadata": {
    "colab": {
      "provenance": [],
      "authorship_tag": "ABX9TyNuVqkI+HMKVrIpr/MSq9Fc",
      "include_colab_link": true
    },
    "kernelspec": {
      "name": "python3",
      "display_name": "Python 3"
    },
    "language_info": {
      "name": "python"
    }
  },
  "cells": [
    {
      "cell_type": "markdown",
      "metadata": {
        "id": "view-in-github",
        "colab_type": "text"
      },
      "source": [
        "<a href=\"https://colab.research.google.com/github/MehrDataPythonist/XOR-NeuralNetwork-PyTorch/blob/main/xor_nn.ipynb\" target=\"_parent\"><img src=\"https://colab.research.google.com/assets/colab-badge.svg\" alt=\"Open In Colab\"/></a>"
      ]
    },
    {
      "cell_type": "code",
      "execution_count": 1,
      "metadata": {
        "colab": {
          "base_uri": "https://localhost:8080/"
        },
        "id": "Mxu6f9hrbwj4",
        "outputId": "fe81b407-7799-4c1b-d693-92911709a333"
      },
      "outputs": [
        {
          "output_type": "stream",
          "name": "stdout",
          "text": [
            "Epoch [1000/5000], Loss: 0.6923\n",
            "Epoch [2000/5000], Loss: 0.6894\n",
            "Epoch [3000/5000], Loss: 0.6561\n",
            "Epoch [4000/5000], Loss: 0.3485\n",
            "Epoch [5000/5000], Loss: 0.1064\n",
            "\n",
            "Predictions:\n",
            "tensor([[0.1064],\n",
            "        [0.8785],\n",
            "        [0.9104],\n",
            "        [0.0853]])\n",
            "\n",
            "Rounded Predictions:\n",
            "tensor([[0.],\n",
            "        [1.],\n",
            "        [1.],\n",
            "        [0.]])\n"
          ]
        }
      ],
      "source": [
        "import torch\n",
        "import torch.nn as nn\n",
        "import torch.optim as optim\n",
        "\n",
        "# XOR data\n",
        "# Inputs\n",
        "X = torch.tensor([[0, 0], [0, 1], [1, 0], [1, 1]], dtype=torch.float32)\n",
        "# Outputs\n",
        "y = torch.tensor([[0], [1], [1], [0]], dtype=torch.float32)\n",
        "\n",
        "# Define the neural network model\n",
        "class XORNet(nn.Module):\n",
        "    def __init__(self):\n",
        "        super(XORNet, self).__init__()\n",
        "        self.hidden = nn.Linear(2, 4)  # Hidden layer with 4 neurons\n",
        "        self.output = nn.Linear(4, 1)  # Output layer with 1 neuron\n",
        "        self.activation = nn.Sigmoid()  # Sigmoid activation function\n",
        "\n",
        "    def forward(self, x):\n",
        "        x = self.activation(self.hidden(x))  # Hidden layer + activation\n",
        "        x = self.activation(self.output(x))  # Output layer + activation\n",
        "        return x\n",
        "\n",
        "# Initialize the model\n",
        "model = XORNet()\n",
        "\n",
        "# Define the loss function and optimizer\n",
        "criterion = nn.BCELoss()  # Binary Cross Entropy Loss for binary data\n",
        "optimizer = optim.SGD(model.parameters(), lr=0.1)  # Stochastic Gradient Descent\n",
        "\n",
        "# Train the model\n",
        "epochs = 5000  # Number of epochs\n",
        "for epoch in range(epochs):\n",
        "    # Forward pass: predict outputs\n",
        "    y_pred = model(X)\n",
        "    # Compute the loss\n",
        "    loss = criterion(y_pred, y)\n",
        "    # Update weights\n",
        "    optimizer.zero_grad()\n",
        "    loss.backward()\n",
        "    optimizer.step()\n",
        "\n",
        "    # Print the loss every 1000 epochs\n",
        "    if (epoch + 1) % 1000 == 0:\n",
        "        print(f'Epoch [{epoch+1}/{epochs}], Loss: {loss.item():.4f}')\n",
        "\n",
        "# Evaluate the model\n",
        "with torch.no_grad():\n",
        "    predictions = model(X)\n",
        "    print(\"\\nPredictions:\")\n",
        "    print(predictions)\n",
        "    print(\"\\nRounded Predictions:\")\n",
        "    print(torch.round(predictions))"
      ]
    }
  ]
}